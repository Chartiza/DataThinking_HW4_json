{
 "cells": [
  {
   "cell_type": "code",
   "execution_count": null,
   "metadata": {},
   "outputs": [],
   "source": [
    "%pip install ipython-sql"
   ]
  },
  {
   "cell_type": "code",
   "execution_count": 5,
   "metadata": {},
   "outputs": [
    {
     "name": "stdout",
     "output_type": "stream",
     "text": [
      "The sql module is not an IPython extension.\n"
     ]
    },
    {
     "name": "stderr",
     "output_type": "stream",
     "text": [
      "UsageError: Line magic function `%sql` not found.\n"
     ]
    }
   ],
   "source": [
    "# smallest possible test case for SQL query using jupyter notebook cell magic commands\n",
    "#import duckdb\n",
    "import pandas as pd\n",
    "\n",
    "# Import jupysql Jupyter extension to create SQL cells\n",
    "%load_ext sql\n",
    "\n",
    "# Set configrations on jupysql to directly output data to Pandas and to simplify the output that is printed to the notebook.\n",
    "%config SqlMagic.autopandas = True\n",
    "\n",
    "%config SqlMagic.feedback = False\n",
    "%config SqlMagic.displaycon = False\n",
    "\n",
    "# Connect jupysql to DuckDB using a SQLAlchemy-style connection string. Either connect to an in memory DuckDB, or a file backed db.\n",
    "%sql duckdb:///:memory:"
   ]
  },
  {
   "cell_type": "code",
   "execution_count": 7,
   "metadata": {},
   "outputs": [],
   "source": [
    "%%sql\n",
    "SELECT *\n",
    "FROM read_csv('/Users/me/Downloads/311_Service_Requests_from_2010_to_Present.csv',\n",
    "    header=True,\n",
    "    delim=',',\n",
    "    quote='\"',\n",
    "    columns={'Unique Key': 'BIGINT',\n",
    "    'Created Date': 'VARCHAR',\n",
    "    'Closed Date': 'VARCHAR',\n",
    "    'Agency': 'VARCHAR',\n",
    "    'Agency Name': 'VARCHAR',\n",
    "    'Complaint Type': 'VARCHAR',\n",
    "    'Descriptor': 'VARCHAR',\n",
    "    'Location Type': 'VARCHAR',\n",
    "    'Incident Zip': 'VARCHAR',\n",
    "    'Incident Address': 'VARCHAR',\n",
    "    'Street Name': 'VARCHAR',\n",
    "    'Cross Street 1': 'VARCHAR',\n",
    "    'Cross Street 2': 'VARCHAR',\n",
    "    'Intersection Street 1': 'VARCHAR',\n",
    "    'Intersection Street 2': 'VARCHAR',\n",
    "    'Address Type': 'VARCHAR',\n",
    "    'City': 'VARCHAR',\n",
    "    'Landmark': 'VARCHAR',\n",
    "    'Facility Type': 'VARCHAR',\n",
    "    'Status': 'VARCHAR',\n",
    "    'Due Date': 'VARCHAR',\n",
    "    'Resolution Description': 'VARCHAR',\n",
    "    'Resolution Action Updated Date': 'VARCHAR',\n",
    "    'Community Board': 'VARCHAR',\n",
    "    'BBL': 'VARCHAR',\n",
    "    'Borough': 'VARCHAR',\n",
    "    'X Coordinate (State Plane)': 'VARCHAR',\n",
    "    'Y Coordinate (State Plane)': 'VARCHAR',\n",
    "    'Open Data Channel Type': 'VARCHAR',\n",
    "    'Park Facility Name': 'VARCHAR',\n",
    "    'Park Borough': 'VARCHAR',\n",
    "    'Vehicle Type': 'VARCHAR',\n",
    "    'Taxi Company Borough': 'VARCHAR',\n",
    "    'Taxi Pick Up Location': 'VARCHAR',\n",
    "    'Bridge Highway Name': 'VARCHAR',\n",
    "    'Bridge Highway Direction': 'VARCHAR',\n",
    "    'Road Ramp': 'VARCHAR',\n",
    "    'Bridge Highway Segment': 'VARCHAR',\n",
    "    'Latitude': 'DOUBLE',\n",
    "    'Longitude': 'DOUBLE',\n",
    "    'Location': 'VARCHAR'}) \n",
    "LIMIT 100000;"
   ]
  },
  {
   "cell_type": "code",
   "execution_count": 1,
   "metadata": {},
   "outputs": [],
   "source": [
    "# import packages\n",
    "import pandas as pd\n",
    "import plotly.express as px\n",
    "import duckdb\n",
    "\n",
    "\n",
    "import matplotlib.pyplot as plt\n",
    "import numpy as np\n",
    "import json\n"
   ]
  },
  {
   "attachments": {},
   "cell_type": "markdown",
   "metadata": {},
   "source": [
    "## Import data"
   ]
  },
  {
   "cell_type": "code",
   "execution_count": 5,
   "metadata": {},
   "outputs": [],
   "source": [
    "# Load json file\n",
    "with open(\"input/messages-1.json\", \"r\") as f:\n",
    "    data = json.load(f)\n",
    "\n",
    "all_messages = []\n",
    "all_senders = []\n",
    "# Loop through each message in the 'zerver_message' column and extract the message content\n",
    "for message in data[\"zerver_message\"]:\n",
    "    content = message[\"content\"]\n",
    "    sender = message[\"sender\"]\n",
    "    all_messages.append(content)\n",
    "    all_senders.append(sender)\n",
    "\n",
    "# Create a dictionary with column names and values\n",
    "data = {\"content\": all_messages, \"sender_id\": all_senders}\n",
    "\n",
    "# Create a Polars DataFrame\n",
    "df = pl.DataFrame(data)"
   ]
  },
  {
   "cell_type": "code",
   "execution_count": 91,
   "metadata": {},
   "outputs": [],
   "source": [
    "mess = pd.DataFrame(data)\n",
    "mess.to_excel(\"results/messages.xlsx\")\n",
    "\n",
    "#594973"
   ]
  }
 ],
 "metadata": {
  "kernelspec": {
   "display_name": "Python 3",
   "language": "python",
   "name": "python3"
  },
  "language_info": {
   "codemirror_mode": {
    "name": "ipython",
    "version": 3
   },
   "file_extension": ".py",
   "mimetype": "text/x-python",
   "name": "python",
   "nbconvert_exporter": "python",
   "pygments_lexer": "ipython3",
   "version": "3.9.6"
  },
  "orig_nbformat": 4
 },
 "nbformat": 4,
 "nbformat_minor": 2
}
